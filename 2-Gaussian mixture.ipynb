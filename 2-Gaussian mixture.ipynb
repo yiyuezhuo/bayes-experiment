{
 "cells": [
  {
   "cell_type": "code",
   "execution_count": 1,
   "metadata": {
    "collapsed": true
   },
   "outputs": [],
   "source": [
    "import edward as ed\n",
    "import tensorflow as tf\n",
    "import numpy as np\n",
    "import matplotlib.pyplot as plt\n",
    "\n",
    "from edward.models import Bernoulli, Beta\n",
    "plt.style.use('ggplot')\n",
    "\n",
    "%matplotlib inline"
   ]
  },
  {
   "cell_type": "code",
   "execution_count": 36,
   "metadata": {
    "collapsed": false
   },
   "outputs": [],
   "source": [
    "from edward.models import Normal,Beta,Categorical,Mixture,Multinomial,Empirical"
   ]
  },
  {
   "cell_type": "code",
   "execution_count": 4,
   "metadata": {
    "collapsed": true
   },
   "outputs": [],
   "source": [
    "from scipy.stats import distributions\n",
    "\n",
    "# Sample parameters\n",
    "nsamples = 1000\n",
    "mu1_true = 0.3\n",
    "mu2_true = 0.55\n",
    "sig1_true = 0.08\n",
    "sig2_true = 0.12\n",
    "a_true = 0.4\n",
    "\n",
    "# Samples generation\n",
    "np.random.seed(3)  # for repeatability\n",
    "s1 = distributions.norm.rvs(mu1_true, sig1_true, size=round(a_true*nsamples))\n",
    "s2 = distributions.norm.rvs(mu2_true, sig2_true, size=round((1-a_true)*nsamples))\n",
    "samples = np.hstack([s1, s2])\n"
   ]
  },
  {
   "cell_type": "code",
   "execution_count": 5,
   "metadata": {
    "collapsed": false
   },
   "outputs": [
    {
     "data": {
      "text/plain": [
       "(array([  18.,   84.,  207.,  162.,  173.,  178.,  129.,   43.,    4.,    2.]),\n",
       " array([ 0.06128238,  0.15458364,  0.2478849 ,  0.34118617,  0.43448743,\n",
       "         0.52778869,  0.62108995,  0.71439121,  0.80769247,  0.90099373,\n",
       "         0.99429499]),\n",
       " <a list of 10 Patch objects>)"
      ]
     },
     "execution_count": 5,
     "metadata": {},
     "output_type": "execute_result"
    },
    {
     "data": {
      "image/png": "[encoded data removed]",
      "text/plain": [
       "<matplotlib.figure.Figure at 0xe9b6c50>"
      ]
     },
     "metadata": {},
     "output_type": "display_data"
    }
   ],
   "source": [
    "plt.hist(samples)"
   ]
  },
  {
   "cell_type": "code",
   "execution_count": 136,
   "metadata": {
    "collapsed": false
   },
   "outputs": [],
   "source": [
    "sigmas = Normal(0.1, 1/1000, sample_shape=2)\n",
    "_sigmas = sigmas.value()\n",
    "#centers = Normal([0.3, 0.7], [1/(0.1)**2, 1/(0.1)**2], sample_shape=2)\n",
    "centers = Normal([0.3, 0.7], [1/(0.1)**2, 1/(0.1)**2])\n",
    "_centers = centers.value()\n",
    "\n",
    "alpha  = Beta(2.0, 3.0)\n",
    "_alpha = alpha.value()\n",
    "category = Categorical(probs = [_alpha, 1 - _alpha], sample_shape=nsamples)\n",
    "components = [\n",
    "    Normal(_centers[k], _sigmas[k],sample_shape=nsamples)\n",
    "    for k in range(2)]\n",
    "x = Mixture(cat=category, components=components,sample_shape=nsamples)\n",
    "\n"
   ]
  },
  {
   "cell_type": "code",
   "execution_count": 137,
   "metadata": {
    "collapsed": false
   },
   "outputs": [
    {
     "data": {
      "text/plain": [
       "array([ -78.15901184,  -78.14749146,  -78.30801392, -125.13528442,\n",
       "        -77.87097931,  -78.09697723,  -77.93295288,  -77.9617157 ,\n",
       "        -78.0637207 ,  -78.1440506 ], dtype=float32)"
      ]
     },
     "execution_count": 137,
     "metadata": {},
     "output_type": "execute_result"
    }
   ],
   "source": [
    "x.sample(10).eval()"
   ]
  },
  {
   "cell_type": "code",
   "execution_count": 138,
   "metadata": {
    "collapsed": false
   },
   "outputs": [
    {
     "data": {
      "text/plain": [
       "(<ed.RandomVariable 'Normal_290/' shape=(2,) dtype=float32>,\n",
       " <ed.RandomVariable 'Normal_293/' shape=(2,) dtype=float32>)"
      ]
     },
     "execution_count": 138,
     "metadata": {},
     "output_type": "execute_result"
    }
   ],
   "source": [
    "sigmas,centers"
   ]
  },
  {
   "cell_type": "code",
   "execution_count": 139,
   "metadata": {
    "collapsed": false
   },
   "outputs": [
    {
     "data": {
      "text/plain": [
       "198.57187"
      ]
     },
     "execution_count": 139,
     "metadata": {},
     "output_type": "execute_result"
    }
   ],
   "source": [
    "x.sample().eval()"
   ]
  },
  {
   "cell_type": "code",
   "execution_count": 140,
   "metadata": {
    "collapsed": true
   },
   "outputs": [],
   "source": [
    "T = 10000\n",
    "\n",
    "qsigmas = Empirical(tf.Variable(tf.ones([T,2])))\n",
    "qcenters = Empirical(tf.Variable(tf.zeros([T,2])))\n",
    "qalpha = Empirical(tf.Variable(tf.ones(T)*0.5))"
   ]
  },
  {
   "cell_type": "code",
   "execution_count": 141,
   "metadata": {
    "collapsed": true
   },
   "outputs": [],
   "source": [
    "gsigmas = Normal(sigmas, 0.01)\n",
    "gcenters = Normal(centers, 0.01)\n",
    "galpha = Normal(alpha,0.001)"
   ]
  },
  {
   "cell_type": "code",
   "execution_count": 142,
   "metadata": {
    "collapsed": false
   },
   "outputs": [],
   "source": [
    "inference = ed.MetropolisHastings({centers:qcenters,sigmas:qsigmas,alpha:qalpha},\n",
    "                                  {centers:gcenters,sigmas:gsigmas,alpha:galpha},\n",
    "                                  {x:samples})"
   ]
  },
  {
   "cell_type": "code",
   "execution_count": 143,
   "metadata": {
    "collapsed": false
   },
   "outputs": [
    {
     "name": "stdout",
     "output_type": "stream",
     "text": [
      "10000/10000 [100%] ██████████████████████████████ Elapsed: 8s | Acceptance Rate: 0.031\n"
     ]
    }
   ],
   "source": [
    "inference.run()"
   ]
  },
  {
   "cell_type": "code",
   "execution_count": 144,
   "metadata": {
    "collapsed": false
   },
   "outputs": [
    {
     "data": {
      "text/plain": [
       "[<matplotlib.lines.Line2D at 0x2346f518>]"
      ]
     },
     "execution_count": 144,
     "metadata": {},
     "output_type": "execute_result"
    },
    {
     "data": {
      "image/png": "[encoded data removed]",
      "text/plain": [
       "<matplotlib.figure.Figure at 0x231f2208>"
      ]
     },
     "metadata": {},
     "output_type": "display_data"
    }
   ],
   "source": [
    "trace = qcenters.params.eval()\n",
    "plt.plot(trace[:,0])"
   ]
  },
  {
   "cell_type": "code",
   "execution_count": 145,
   "metadata": {
    "collapsed": false
   },
   "outputs": [
    {
     "data": {
      "text/plain": [
       "[<matplotlib.lines.Line2D at 0x2321f518>]"
      ]
     },
     "execution_count": 145,
     "metadata": {},
     "output_type": "execute_result"
    },
    {
     "data": {
      "image/png": "[encoded data removed]",
      "text/plain": [
       "<matplotlib.figure.Figure at 0x233d0f60>"
      ]
     },
     "metadata": {},
     "output_type": "display_data"
    }
   ],
   "source": [
    "trace = qcenters.params.eval()\n",
    "plt.plot(trace[:,1])"
   ]
  },
  {
   "cell_type": "code",
   "execution_count": 146,
   "metadata": {
    "collapsed": false
   },
   "outputs": [
    {
     "data": {
      "text/plain": [
       "[<matplotlib.lines.Line2D at 0x23284c88>]"
      ]
     },
     "execution_count": 146,
     "metadata": {},
     "output_type": "execute_result"
    },
    {
     "data": {
      "image/png": "[encoded data removed]",
      "text/plain": [
       "<matplotlib.figure.Figure at 0x23243588>"
      ]
     },
     "metadata": {},
     "output_type": "display_data"
    }
   ],
   "source": [
    "plt.plot(qalpha.params.eval())"
   ]
  },
  {
   "cell_type": "code",
   "execution_count": 126,
   "metadata": {
    "collapsed": false
   },
   "outputs": [
    {
     "data": {
      "text/plain": [
       "<tf.Tensor 'Beta_60/sample/Reshape:0' shape=() dtype=float32>"
      ]
     },
     "execution_count": 126,
     "metadata": {},
     "output_type": "execute_result"
    }
   ],
   "source": [
    "alpha.value()"
   ]
  },
  {
   "cell_type": "code",
   "execution_count": 127,
   "metadata": {
    "collapsed": false
   },
   "outputs": [
    {
     "data": {
      "text/plain": [
       "<ed.RandomVariable 'Beta_61/' shape=() dtype=float32>"
      ]
     },
     "execution_count": 127,
     "metadata": {},
     "output_type": "execute_result"
    }
   ],
   "source": [
    "alpha"
   ]
  },
  {
   "cell_type": "code",
   "execution_count": null,
   "metadata": {
    "collapsed": true
   },
   "outputs": [],
   "source": [
    "Categorical"
   ]
  }
 ],
 "metadata": {
  "kernelspec": {
   "display_name": "Python [Root]",
   "language": "python",
   "name": "Python [Root]"
  },
  "language_info": {
   "codemirror_mode": {
    "name": "ipython",
    "version": 3
   },
   "file_extension": ".py",
   "mimetype": "text/x-python",
   "name": "python",
   "nbconvert_exporter": "python",
   "pygments_lexer": "ipython3",
   "version": "3.5.2"
  }
 },
 "nbformat": 4,
 "nbformat_minor": 0
}

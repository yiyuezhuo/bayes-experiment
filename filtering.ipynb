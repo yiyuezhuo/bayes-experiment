{
 "cells": [
  {
   "cell_type": "markdown",
   "metadata": {},
   "source": [
    "# 滤波算法\n",
    "\n",
    "隐马尔科夫模型中的滤波问题就是给定参数与观测，推断最有可能的序列末的隐状态。虽然这种问题在HMM上很好解，但在一般的随机模型上就不那么容易了。\n",
    "比如说，目标追踪问题：\n",
    "\n",
    "目标追踪问题，如图所示\n",
    "\n",
    "<img src=\"image/trace.png\">\n",
    "\n",
    "就是给定一个图片序列，其中第一张图画出一个“目标”的框，算法要在之后的图画出框来“追踪”那个目标。目标当然会动也会变化。\n",
    "\n",
    "虽然看上去这的确很像隐马尔科夫式模型——有个目标（框）在某个地方，但我们无法直接观测到这个目标（框），\n",
    "而只能看到这个这个框的某种特征与背景的混合物，这可以看做观测噪声和隐状态。不过我们几乎没有任何隐状态转移的模型存在。\n",
    "虽然大致上我们可能会刻画一个函数，这个函数会使类似的“颜色图”出现在附近赋予相对高的概率之类的。\n",
    "\n",
    "追踪（tracking）问题并不能被侦测（detecting）问题完全覆盖，虽然如果只有一个目标那我们可以每次都detect一次得到相同的结果，\n",
    "且不论信息集成的优势，如果有两个目标，那么我们想要在后面能分辨（基于常识的）两者哪个是第一帧中对应的那个该怎么做呢？\n",
    "显然侦测模型无法告诉我们，而如果加上些什么距离之类的知识，那几本就是tracking的模型了。\n",
    "\n",
    "## 贝叶斯滤波\n",
    "\n"
   ]
  },
  {
   "cell_type": "code",
   "execution_count": null,
   "metadata": {
    "collapsed": true
   },
   "outputs": [],
   "source": []
  }
 ],
 "metadata": {
  "anaconda-cloud": {},
  "kernelspec": {
   "display_name": "Python [Root]",
   "language": "python",
   "name": "Python [Root]"
  },
  "language_info": {
   "codemirror_mode": {
    "name": "ipython",
    "version": 3
   },
   "file_extension": ".py",
   "mimetype": "text/x-python",
   "name": "python",
   "nbconvert_exporter": "python",
   "pygments_lexer": "ipython3",
   "version": "3.5.2"
  }
 },
 "nbformat": 4,
 "nbformat_minor": 0
}
